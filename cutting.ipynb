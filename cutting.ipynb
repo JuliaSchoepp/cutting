{
 "cells": [
  {
   "cell_type": "markdown",
   "id": "c4446f86-38a9-45b4-9ead-86dede8e1643",
   "metadata": {},
   "source": [
    "## Guillotine Cutting Optimization"
   ]
  },
  {
   "cell_type": "code",
   "execution_count": 1,
   "id": "e087093c-4af5-4509-8b6c-481c10d58504",
   "metadata": {},
   "outputs": [],
   "source": [
    "struct Panel\n",
    "    len::Int\n",
    "    wid::Int\n",
    "end\n",
    "\n",
    "# ist der größere Wert immer die Länge\n",
    "struct Piece\n",
    "    len::Int\n",
    "    wid::Int\n",
    "end"
   ]
  },
  {
   "cell_type": "code",
   "execution_count": 2,
   "id": "a9281b31-9257-412d-9933-6a1bbc2eeb61",
   "metadata": {},
   "outputs": [
    {
     "data": {
      "text/plain": [
       "Panel(5, 4)"
      ]
     },
     "execution_count": 2,
     "metadata": {},
     "output_type": "execute_result"
    }
   ],
   "source": [
    "panel = Panel(5,4)"
   ]
  },
  {
   "cell_type": "code",
   "execution_count": 3,
   "id": "52d04f93-3c5d-4c96-90be-fa740ed677f0",
   "metadata": {},
   "outputs": [
    {
     "data": {
      "text/plain": [
       "Piece(2, 3)"
      ]
     },
     "execution_count": 3,
     "metadata": {},
     "output_type": "execute_result"
    }
   ],
   "source": [
    "p1 = Piece(2,3)"
   ]
  },
  {
   "cell_type": "code",
   "execution_count": 4,
   "id": "9d7d0109-8865-4bbc-b56f-9c1425c4ea60",
   "metadata": {},
   "outputs": [
    {
     "data": {
      "text/plain": [
       "5-element Vector{Piece}:\n",
       " Piece(2, 2)\n",
       " Piece(3, 2)\n",
       " Piece(2, 2)\n",
       " Piece(3, 2)\n",
       " Piece(3, 1)"
      ]
     },
     "execution_count": 4,
     "metadata": {},
     "output_type": "execute_result"
    }
   ],
   "source": [
    "# list of pieces, get total square whatever, how many panels do you need at least?\n",
    "# preconditions: all pieces can be cut from panel (len <= len, wid <= wid)\n",
    "piece_list = [Piece(2,2), Piece(3,2), Piece(2,2), Piece(3,2), Piece(3,1)]"
   ]
  },
  {
   "cell_type": "markdown",
   "id": "a75f1a80-5b64-4408-88b6-ca8b908de97b",
   "metadata": {},
   "source": [
    "- start with panels ordered by max len, then max wid, then min len, then min wid, then all random permutations\n",
    "- keep track of min number of panels & respective list of cuts\n",
    "- stop exploring solution if exceeds min number of panels OR all pieces cut OR manual interrupt"
   ]
  },
  {
   "cell_type": "code",
   "execution_count": 5,
   "id": "b0dcba14-b005-4bb3-bd06-730dd4bea7e4",
   "metadata": {},
   "outputs": [
    {
     "data": {
      "text/plain": [
       "get_area (generic function with 2 methods)"
      ]
     },
     "execution_count": 5,
     "metadata": {},
     "output_type": "execute_result"
    }
   ],
   "source": [
    "get_area(piece::Piece) = piece.len * piece.wid\n",
    "get_area(panel::Panel) = panel.len * panel.wid"
   ]
  },
  {
   "cell_type": "code",
   "execution_count": 6,
   "id": "adc5ba16-0c85-4c7e-8290-28311512bff1",
   "metadata": {},
   "outputs": [
    {
     "data": {
      "text/plain": [
       "20"
      ]
     },
     "execution_count": 6,
     "metadata": {},
     "output_type": "execute_result"
    }
   ],
   "source": [
    "get_area(panel)"
   ]
  },
  {
   "cell_type": "code",
   "execution_count": 7,
   "id": "e7457570-6f2e-4654-8b6f-109aa69f655a",
   "metadata": {},
   "outputs": [
    {
     "data": {
      "text/plain": [
       "23"
      ]
     },
     "execution_count": 7,
     "metadata": {},
     "output_type": "execute_result"
    }
   ],
   "source": [
    "total_area = sum([get_area(piece) for piece in piece_list])"
   ]
  },
  {
   "cell_type": "code",
   "execution_count": 8,
   "id": "62ecac22-0904-49b7-ab81-a8f248b64f2f",
   "metadata": {},
   "outputs": [
    {
     "data": {
      "text/plain": [
       "2.0"
      ]
     },
     "execution_count": 8,
     "metadata": {},
     "output_type": "execute_result"
    }
   ],
   "source": [
    "min_panels = ceil(total_area / get_area(panel))"
   ]
  },
  {
   "cell_type": "markdown",
   "id": "42155ca2-1397-473b-b922-0b247419f198",
   "metadata": {},
   "source": [
    "- take first piece from list\n",
    "- cut piece from panel: cut panel along one dimension, add 'leftover' to leftover stack, cut second dimension, move piece to \"done\" stack, move leftover (if exists) to leftover stack\n",
    "- make sure leftover panel is defined so that longer side is len and shorter is width\n",
    "- take smallest panel from leftover stack, from first to last, see if any of the remaining pieces in list can be cut from it, if so: cut, move piece to done stack and leftover to leftover stack, if not\n",
    "move leftover panel to waste\n",
    "- when leftover panels are empty but there are still pieces: open a new panel"
   ]
  },
  {
   "cell_type": "markdown",
   "id": "5c4e814b-6d9f-4254-bc03-0824cf7531b0",
   "metadata": {},
   "source": [
    "Beginning State:\n",
    "- list of pieces len > 0\n",
    "- num panels = 0\n",
    "- finished pieces empty list\n",
    "- leftover panels empty list\n",
    "- list of cuts empty"
   ]
  },
  {
   "cell_type": "code",
   "execution_count": 9,
   "id": "061aac0b-e206-4841-9087-9c7877304d3a",
   "metadata": {},
   "outputs": [
    {
     "data": {
      "text/plain": [
       "is_cuttable (generic function with 1 method)"
      ]
     },
     "execution_count": 9,
     "metadata": {},
     "output_type": "execute_result"
    }
   ],
   "source": [
    "is_cuttable(piece::Piece, panel::Panel) = (piece.len <= panel.len) & (piece.wid <= panel.wid)"
   ]
  },
  {
   "cell_type": "code",
   "execution_count": 10,
   "id": "77cd865f-4980-4f4b-8eba-e5e4d170ae17",
   "metadata": {},
   "outputs": [
    {
     "data": {
      "text/plain": [
       "true"
      ]
     },
     "execution_count": 10,
     "metadata": {},
     "output_type": "execute_result"
    }
   ],
   "source": [
    "is_cuttable(p1, panel)"
   ]
  },
  {
   "cell_type": "code",
   "execution_count": 11,
   "id": "5646f625-5386-4c68-96c0-7921626e1047",
   "metadata": {},
   "outputs": [
    {
     "name": "stdout",
     "output_type": "stream",
     "text": [
      "ok\n"
     ]
    }
   ],
   "source": [
    "if is_cuttable(p1, panel)\n",
    "    # how to remove element from array? or use different data type like dict? or have attribute \"cut/done\"?\n",
    "    println(\"ok\")\n",
    "end"
   ]
  },
  {
   "cell_type": "markdown",
   "id": "184817ec-b5de-48fa-b3cf-41a3d23364db",
   "metadata": {},
   "source": [
    "- how to decide whether to cut len or wid?\n",
    "- how to record/give out/visualize cuts?"
   ]
  },
  {
   "cell_type": "code",
   "execution_count": 12,
   "id": "fe74b3ff-7343-42c5-b39f-78370fc0d29d",
   "metadata": {},
   "outputs": [
    {
     "data": {
      "text/plain": [
       "cut (generic function with 1 method)"
      ]
     },
     "execution_count": 12,
     "metadata": {},
     "output_type": "execute_result"
    }
   ],
   "source": [
    "function cut(panel::Panel, piece::Piece, dimension::String) \n",
    "    if !is_cuttable(piece, panel)\n",
    "        throw(DomainError(\"Piece cannot be cut from panel\"))\n",
    "    end\n",
    "    if ! dimension in [\"len\", \"wid\"]\n",
    "        throw(ArgumentError(\"Dimension must be len or wid\"))\n",
    "    end\n",
    "    if dimension == \"len\"\n",
    "        cut1 = Panel(panel.len - piece.len, panel.wid)\n",
    "        cut2 = Panel(piece.len, panel.wid - piece.wid)\n",
    "        return(cut1, cut2)\n",
    "        end\n",
    "    if dimension == \"wid\"\n",
    "        cut1 = Panel(panel.len, panel.wid - piece.wid)\n",
    "        cut2 = Panel(panel.len - piece.len, piece.wid)\n",
    "        return(cut1, cut2)\n",
    "        end\n",
    "end"
   ]
  },
  {
   "cell_type": "markdown",
   "id": "f369cdd5-89ca-44da-a364-c4568be8c10b",
   "metadata": {},
   "source": [
    "- einfarbige platten (immer so \"drehen\" dass die längere seite len ist) vs gemaserte Platten (ausrichtung muss fix bleiben)"
   ]
  },
  {
   "cell_type": "code",
   "execution_count": 13,
   "id": "491ebd2e-3b19-4776-a5a8-340ceef97596",
   "metadata": {},
   "outputs": [
    {
     "ename": "LoadError",
     "evalue": "MethodError: no method matching !(::String)\n\u001b[0mClosest candidates are:\n\u001b[0m  !(\u001b[91m::Function\u001b[39m) at /Applications/Julia-1.7.app/Contents/Resources/julia/share/julia/base/operators.jl:1117\n\u001b[0m  !(\u001b[91m::Bool\u001b[39m) at /Applications/Julia-1.7.app/Contents/Resources/julia/share/julia/base/bool.jl:35\n\u001b[0m  !(\u001b[91m::Missing\u001b[39m) at /Applications/Julia-1.7.app/Contents/Resources/julia/share/julia/base/missing.jl:101",
     "output_type": "error",
     "traceback": [
      "MethodError: no method matching !(::String)\n\u001b[0mClosest candidates are:\n\u001b[0m  !(\u001b[91m::Function\u001b[39m) at /Applications/Julia-1.7.app/Contents/Resources/julia/share/julia/base/operators.jl:1117\n\u001b[0m  !(\u001b[91m::Bool\u001b[39m) at /Applications/Julia-1.7.app/Contents/Resources/julia/share/julia/base/bool.jl:35\n\u001b[0m  !(\u001b[91m::Missing\u001b[39m) at /Applications/Julia-1.7.app/Contents/Resources/julia/share/julia/base/missing.jl:101",
      "",
      "Stacktrace:",
      " [1] cut(panel::Panel, piece::Piece, dimension::String)",
      "   @ Main ./In[12]:5",
      " [2] top-level scope",
      "   @ In[13]:1",
      " [3] eval",
      "   @ ./boot.jl:373 [inlined]",
      " [4] include_string(mapexpr::typeof(REPL.softscope), mod::Module, code::String, filename::String)",
      "   @ Base ./loading.jl:1196"
     ]
    }
   ],
   "source": [
    "cut(panel, p1, \"len\")"
   ]
  },
  {
   "cell_type": "code",
   "execution_count": 23,
   "id": "a2120eac-509f-43e1-b639-9b47cc824350",
   "metadata": {},
   "outputs": [
    {
     "data": {
      "text/plain": [
       "cut (generic function with 2 methods)"
      ]
     },
     "execution_count": 23,
     "metadata": {},
     "output_type": "execute_result"
    }
   ],
   "source": [
    "cut"
   ]
  },
  {
   "cell_type": "code",
   "execution_count": 14,
   "id": "c01709b4-5ccf-414e-87a0-18856cc41342",
   "metadata": {},
   "outputs": [
    {
     "data": {
      "text/html": [
       "# 1 method for generic function <b>cut</b>:<ul><li> cut(panel::<b>Panel</b>, piece::<b>Piece</b>, dimension::<b>String</b>) in Main at In[12]:1</li> </ul>"
      ],
      "text/plain": [
       "# 1 method for generic function \"cut\":\n",
       "[1] cut(panel::Panel, piece::Piece, dimension::String) in Main at In[12]:1"
      ]
     },
     "execution_count": 14,
     "metadata": {},
     "output_type": "execute_result"
    }
   ],
   "source": [
    "methods(cut)"
   ]
  },
  {
   "cell_type": "code",
   "execution_count": 15,
   "id": "8b578955-777e-4b3d-8b3e-6aef27c974c6",
   "metadata": {},
   "outputs": [
    {
     "data": {
      "text/plain": [
       "\"len\""
      ]
     },
     "execution_count": 15,
     "metadata": {},
     "output_type": "execute_result"
    }
   ],
   "source": [
    "\"len\""
   ]
  },
  {
   "cell_type": "code",
   "execution_count": 17,
   "id": "5045a34e-0448-4701-8733-f4962ed7f502",
   "metadata": {},
   "outputs": [
    {
     "ename": "LoadError",
     "evalue": "type String has no field type",
     "output_type": "error",
     "traceback": [
      "type String has no field type",
      "",
      "Stacktrace:",
      " [1] getproperty(x::String, f::Symbol)",
      "   @ Base ./Base.jl:42",
      " [2] top-level scope",
      "   @ In[17]:1",
      " [3] eval",
      "   @ ./boot.jl:373 [inlined]",
      " [4] include_string(mapexpr::typeof(REPL.softscope), mod::Module, code::String, filename::String)",
      "   @ Base ./loading.jl:1196"
     ]
    }
   ],
   "source": []
  },
  {
   "cell_type": "code",
   "execution_count": null,
   "id": "3a862487-9547-421b-ac24-afb32d5917af",
   "metadata": {},
   "outputs": [],
   "source": []
  }
 ],
 "metadata": {
  "kernelspec": {
   "display_name": "Julia 1.7.2",
   "language": "julia",
   "name": "julia-1.7"
  },
  "language_info": {
   "file_extension": ".jl",
   "mimetype": "application/julia",
   "name": "julia",
   "version": "1.7.2"
  }
 },
 "nbformat": 4,
 "nbformat_minor": 5
}
