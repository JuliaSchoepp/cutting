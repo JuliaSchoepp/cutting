{
 "cells": [
  {
   "cell_type": "markdown",
   "id": "c4446f86-38a9-45b4-9ead-86dede8e1643",
   "metadata": {},
   "source": [
    "## Guillotine Cutting Optimization"
   ]
  },
  {
   "cell_type": "code",
   "execution_count": 1,
   "id": "5088b002",
   "metadata": {},
   "outputs": [],
   "source": [
    "using DataStructures"
   ]
  },
  {
   "cell_type": "code",
   "execution_count": 2,
   "id": "e087093c-4af5-4509-8b6c-481c10d58504",
   "metadata": {},
   "outputs": [],
   "source": [
    "struct Panel\n",
    "    len::Int\n",
    "    wid::Int\n",
    "end\n",
    "\n",
    "# ist der größere Wert immer die Länge\n",
    "struct Piece\n",
    "    len::Int\n",
    "    wid::Int\n",
    "    qnt::Int\n",
    "end"
   ]
  },
  {
   "cell_type": "code",
   "execution_count": 3,
   "id": "a26ea78d",
   "metadata": {},
   "outputs": [
    {
     "data": {
      "text/plain": [
       "create_id (generic function with 1 method)"
      ]
     },
     "execution_count": 3,
     "metadata": {},
     "output_type": "execute_result"
    }
   ],
   "source": [
    "create_id(piece::Piece) = \"l$(piece.len)-w$(piece.wid)\""
   ]
  },
  {
   "cell_type": "code",
   "execution_count": 4,
   "id": "f333dde8",
   "metadata": {},
   "outputs": [
    {
     "data": {
      "text/plain": [
       "4-element Vector{Piece}:\n",
       " Piece(3, 1, 4)\n",
       " Piece(4, 2, 2)\n",
       " Piece(5, 1, 1)\n",
       " Piece(2, 2, 4)"
      ]
     },
     "execution_count": 4,
     "metadata": {},
     "output_type": "execute_result"
    }
   ],
   "source": [
    "pieces = [Piece(3,1,4), Piece(4,2,2), Piece(5,1,1), Piece(2,2,4)]"
   ]
  },
  {
   "cell_type": "code",
   "execution_count": 5,
   "id": "a9281b31-9257-412d-9933-6a1bbc2eeb61",
   "metadata": {},
   "outputs": [
    {
     "data": {
      "text/plain": [
       "Panel(5, 4)"
      ]
     },
     "execution_count": 5,
     "metadata": {},
     "output_type": "execute_result"
    }
   ],
   "source": [
    "panel = Panel(5,4)"
   ]
  },
  {
   "cell_type": "code",
   "execution_count": 7,
   "id": "52d04f93-3c5d-4c96-90be-fa740ed677f0",
   "metadata": {},
   "outputs": [
    {
     "data": {
      "text/plain": [
       "Piece(3, 2, 1)"
      ]
     },
     "execution_count": 7,
     "metadata": {},
     "output_type": "execute_result"
    }
   ],
   "source": [
    "p1 = Piece(3,2,1)"
   ]
  },
  {
   "cell_type": "code",
   "execution_count": 8,
   "id": "0e2e7c9e",
   "metadata": {},
   "outputs": [
    {
     "data": {
      "text/plain": [
       "\"l3-w2\""
      ]
     },
     "execution_count": 8,
     "metadata": {},
     "output_type": "execute_result"
    }
   ],
   "source": [
    "create_id(p1)"
   ]
  },
  {
   "cell_type": "markdown",
   "id": "a75f1a80-5b64-4408-88b6-ca8b908de97b",
   "metadata": {},
   "source": [
    "- start with panels ordered by max len, then max wid, then min len, then min wid, then all random permutations\n",
    "- keep track of min number of panels & respective list of cuts\n",
    "- stop exploring solution if exceeds min number of panels OR all pieces cut OR manual interrupt"
   ]
  },
  {
   "cell_type": "code",
   "execution_count": 9,
   "id": "b0dcba14-b005-4bb3-bd06-730dd4bea7e4",
   "metadata": {},
   "outputs": [
    {
     "data": {
      "text/plain": [
       "get_area"
      ]
     },
     "execution_count": 9,
     "metadata": {},
     "output_type": "execute_result"
    }
   ],
   "source": [
    "\"calculate the area of a piece\"\n",
    "get_area(piece::Piece) = piece.len * piece.wid\n",
    "\n",
    "\"calculate the area of a panel\"\n",
    "get_area(panel::Panel) = panel.len * panel.wid"
   ]
  },
  {
   "cell_type": "code",
   "execution_count": 10,
   "id": "adc5ba16-0c85-4c7e-8290-28311512bff1",
   "metadata": {},
   "outputs": [
    {
     "data": {
      "text/plain": [
       "20"
      ]
     },
     "execution_count": 10,
     "metadata": {},
     "output_type": "execute_result"
    }
   ],
   "source": [
    "get_area(panel)"
   ]
  },
  {
   "cell_type": "code",
   "execution_count": 12,
   "id": "e7457570-6f2e-4654-8b6f-109aa69f655a",
   "metadata": {},
   "outputs": [
    {
     "data": {
      "text/plain": [
       "49"
      ]
     },
     "execution_count": 12,
     "metadata": {},
     "output_type": "execute_result"
    }
   ],
   "source": [
    "total_area = sum([get_area(piece)*piece.qnt for piece in pieces])"
   ]
  },
  {
   "cell_type": "code",
   "execution_count": 13,
   "id": "62ecac22-0904-49b7-ab81-a8f248b64f2f",
   "metadata": {},
   "outputs": [
    {
     "data": {
      "text/plain": [
       "3.0"
      ]
     },
     "execution_count": 13,
     "metadata": {},
     "output_type": "execute_result"
    }
   ],
   "source": [
    "min_panels = ceil(total_area / get_area(panel))"
   ]
  },
  {
   "cell_type": "markdown",
   "id": "42155ca2-1397-473b-b922-0b247419f198",
   "metadata": {},
   "source": [
    "- take first piece from list\n",
    "- cut piece from panel: cut panel along one dimension, add 'leftover' to leftover stack, cut second dimension, move piece to \"done\" stack, move leftover (if exists) to leftover stack\n",
    "- make sure leftover panel is defined so that longer side is len and shorter is width\n",
    "- take smallest panel from leftover stack, from first to last, see if any of the remaining pieces in list can be cut from it, if so: cut, move piece to done stack and leftover to leftover stack, if not\n",
    "move leftover panel to waste\n",
    "- when leftover panels are empty but there are still pieces: open a new panel"
   ]
  },
  {
   "cell_type": "markdown",
   "id": "5c4e814b-6d9f-4254-bc03-0824cf7531b0",
   "metadata": {},
   "source": [
    "Beginning State:\n",
    "- list of pieces len > 0\n",
    "- num panels = 0\n",
    "- finished pieces empty list\n",
    "- leftover panels empty list\n",
    "- list of cuts empty"
   ]
  },
  {
   "cell_type": "code",
   "execution_count": 9,
   "id": "061aac0b-e206-4841-9087-9c7877304d3a",
   "metadata": {},
   "outputs": [
    {
     "data": {
      "text/plain": [
       "is_cuttable"
      ]
     },
     "execution_count": 9,
     "metadata": {},
     "output_type": "execute_result"
    }
   ],
   "source": [
    "\"Check if a piece can be cut from a panel\"\n",
    "is_cuttable(panel::Panel, piece::Piece) = (piece.len <= panel.len) & (piece.wid <= panel.wid)"
   ]
  },
  {
   "cell_type": "code",
   "execution_count": 12,
   "id": "77cd865f-4980-4f4b-8eba-e5e4d170ae17",
   "metadata": {},
   "outputs": [
    {
     "data": {
      "text/plain": [
       "true"
      ]
     },
     "execution_count": 12,
     "metadata": {},
     "output_type": "execute_result"
    }
   ],
   "source": [
    "is_cuttable(panel, p1)"
   ]
  },
  {
   "cell_type": "markdown",
   "id": "184817ec-b5de-48fa-b3cf-41a3d23364db",
   "metadata": {},
   "source": [
    "- how to decide whether to cut len or wid?\n",
    "- how to record/give out/visualize cuts?\n",
    "- what if it fits exatly?"
   ]
  },
  {
   "cell_type": "code",
   "execution_count": 15,
   "id": "fe74b3ff-7343-42c5-b39f-78370fc0d29d",
   "metadata": {},
   "outputs": [
    {
     "data": {
      "text/plain": [
       "cut"
      ]
     },
     "execution_count": 15,
     "metadata": {},
     "output_type": "execute_result"
    }
   ],
   "source": [
    "\"Cut a piece from a panel and return the leftover panels\"\n",
    "function cut(panel::Panel, piece::Piece, dimension::String = \"wid\") \n",
    "    if !is_cuttable(panel, piece)\n",
    "        throw(DomainError(\"Piece cannot be cut from panel\"))\n",
    "    end\n",
    "    if ! (dimension in [\"len\", \"wid\"])\n",
    "        throw(ArgumentError(\"Dimension must be len or wid\"))\n",
    "    end\n",
    "    if dimension == \"len\"\n",
    "        cut1 = Panel(panel.len - piece.len, panel.wid)\n",
    "        cut2 = Panel(piece.len, panel.wid - piece.wid)\n",
    "        return(cut1, cut2)\n",
    "        end\n",
    "    if dimension == \"wid\"\n",
    "        cut1 = Panel(panel.len, panel.wid - piece.wid)\n",
    "        cut2 = Panel(panel.len - piece.len, piece.wid)\n",
    "        return(cut1, cut2)\n",
    "        end\n",
    "end"
   ]
  },
  {
   "cell_type": "markdown",
   "id": "f369cdd5-89ca-44da-a364-c4568be8c10b",
   "metadata": {},
   "source": [
    "- einfarbige platten (immer so \"drehen\" dass die längere seite len ist) vs gemaserte Platten (ausrichtung muss fix bleiben)"
   ]
  },
  {
   "cell_type": "code",
   "execution_count": 16,
   "id": "491ebd2e-3b19-4776-a5a8-340ceef97596",
   "metadata": {},
   "outputs": [
    {
     "data": {
      "text/plain": [
       "(Panel(5, 2), Panel(2, 2))"
      ]
     },
     "execution_count": 16,
     "metadata": {},
     "output_type": "execute_result"
    }
   ],
   "source": [
    "cut(panel, p1)"
   ]
  },
  {
   "cell_type": "code",
   "execution_count": 17,
   "id": "8409a65d-3e87-4194-942e-ed457863a015",
   "metadata": {},
   "outputs": [
    {
     "data": {
      "text/plain": [
       "Piece(1, 1)"
      ]
     },
     "execution_count": 17,
     "metadata": {},
     "output_type": "execute_result"
    }
   ],
   "source": [
    "p2 = Piece(1,1)"
   ]
  },
  {
   "cell_type": "code",
   "execution_count": 18,
   "id": "03be5f09",
   "metadata": {},
   "outputs": [
    {
     "data": {
      "text/plain": [
       "(Panel(2, 0), Panel(0, 2))"
      ]
     },
     "execution_count": 18,
     "metadata": {},
     "output_type": "execute_result"
    }
   ],
   "source": [
    "cut(Panel(2,2), Piece(2,2))"
   ]
  },
  {
   "cell_type": "code",
   "execution_count": 19,
   "id": "b236898c",
   "metadata": {},
   "outputs": [
    {
     "data": {
      "text/plain": [
       "leftover_exists (generic function with 1 method)"
      ]
     },
     "execution_count": 19,
     "metadata": {},
     "output_type": "execute_result"
    }
   ],
   "source": [
    "leftover_exists(leftover::Panel) = leftover.len != 0 && leftover.wid != 0"
   ]
  },
  {
   "cell_type": "code",
   "execution_count": 22,
   "id": "6be62c38",
   "metadata": {},
   "outputs": [
    {
     "data": {
      "text/plain": [
       "5-element Vector{Piece}:\n",
       " Piece(2, 2)\n",
       " Piece(3, 2)\n",
       " Piece(2, 2)\n",
       " Piece(3, 2)\n",
       " Piece(3, 1)"
      ]
     },
     "execution_count": 22,
     "metadata": {},
     "output_type": "execute_result"
    }
   ],
   "source": [
    "# list of pieces, get total square whatever, how many panels do you need at least?\n",
    "# preconditions: all pieces can be cut from panel (len <= len, wid <= wid)\n",
    "piece_list = [Piece(2,2), Piece(3,2), Piece(2,2), Piece(3,2), Piece(3,1)]"
   ]
  },
  {
   "cell_type": "code",
   "execution_count": 23,
   "id": "4c50e138",
   "metadata": {},
   "outputs": [
    {
     "data": {
      "text/plain": [
       "5-element Vector{Piece}:\n",
       " Piece(2, 2)\n",
       " Piece(3, 2)\n",
       " Piece(2, 2)\n",
       " Piece(3, 2)\n",
       " Piece(3, 1)"
      ]
     },
     "execution_count": 23,
     "metadata": {},
     "output_type": "execute_result"
    }
   ],
   "source": [
    "sort!(piece_list, by= p -> p.wid, rev=true)"
   ]
  },
  {
   "cell_type": "code",
   "execution_count": 38,
   "id": "02cb629a",
   "metadata": {},
   "outputs": [
    {
     "data": {
      "text/plain": [
       "Queue{Panel}(Deque [Panel[Panel(5, 2), Panel(2, 2)]])"
      ]
     },
     "execution_count": 38,
     "metadata": {},
     "output_type": "execute_result"
    }
   ],
   "source": [
    "leftovers = Queue{Panel}()\n",
    "if is_cuttable(panel, p1)\n",
    "    lo1, lo2 = cut(panel, p1)\n",
    "    if leftover_exists(lo1)\n",
    "        enqueue!(leftovers, lo1)\n",
    "    end\n",
    "    if leftover_exists(lo2)\n",
    "        enqueue!(leftovers, lo2)\n",
    "    end\n",
    "end"
   ]
  },
  {
   "cell_type": "code",
   "execution_count": 44,
   "id": "59c84dc0",
   "metadata": {},
   "outputs": [
    {
     "ename": "LoadError",
     "evalue": "MethodError: no method matching delete!(::Vector{Piece}, ::Piece)\n\u001b[0mClosest candidates are:\n\u001b[0m  delete!(\u001b[91m::Set\u001b[39m, ::Any) at set.jl:76\n\u001b[0m  delete!(\u001b[91m::IdDict{K}\u001b[39m, ::Any) where K at iddict.jl:130\n\u001b[0m  delete!(\u001b[91m::OrderedRobinDict\u001b[39m, ::Any) at ~/.julia/packages/DataStructures/59MD0/src/ordered_robin_dict.jl:401\n\u001b[0m  ...",
     "output_type": "error",
     "traceback": [
      "MethodError: no method matching delete!(::Vector{Piece}, ::Piece)\n\u001b[0mClosest candidates are:\n\u001b[0m  delete!(\u001b[91m::Set\u001b[39m, ::Any) at set.jl:76\n\u001b[0m  delete!(\u001b[91m::IdDict{K}\u001b[39m, ::Any) where K at iddict.jl:130\n\u001b[0m  delete!(\u001b[91m::OrderedRobinDict\u001b[39m, ::Any) at ~/.julia/packages/DataStructures/59MD0/src/ordered_robin_dict.jl:401\n\u001b[0m  ...",
      "",
      "Stacktrace:",
      " [1] top-level scope",
      "   @ ./In[44]:5",
      " [2] eval",
      "   @ ./boot.jl:368 [inlined]",
      " [3] include_string(mapexpr::typeof(REPL.softscope), mod::Module, code::String, filename::String)",
      "   @ Base ./loading.jl:1428"
     ]
    }
   ],
   "source": [
    "while !isempty(leftovers)\n",
    "    cur_lo = dequeue!(leftovers)\n",
    "    for piece in piece_list # filter: qnt > 0\n",
    "        if is_cuttable(cur_lo, piece)\n",
    "            # qnt -= 1\n",
    "        end\n",
    "    end\n",
    "end"
   ]
  },
  {
   "cell_type": "code",
   "execution_count": null,
   "id": "da867e05",
   "metadata": {},
   "outputs": [],
   "source": []
  }
 ],
 "metadata": {
  "kernelspec": {
   "display_name": "Julia 1.8.0",
   "language": "julia",
   "name": "julia-1.8"
  },
  "language_info": {
   "file_extension": ".jl",
   "mimetype": "application/julia",
   "name": "julia",
   "version": "1.8.0"
  }
 },
 "nbformat": 4,
 "nbformat_minor": 5
}
